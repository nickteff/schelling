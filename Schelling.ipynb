{
  "cells": [
    {
      "cell_type": "code",
      "source": [
        "import matplotlib as mpl\n",
        "import matplotlib.colors as col\n",
        "import matplotlib.pyplot as plt\n",
        "import itertools\n",
        "import numpy as np\n",
        "import pandas as pd\n",
        "import copy"
      ],
      "outputs": [],
      "execution_count": 1,
      "metadata": {
        "collapsed": true
      }
    },
    {
      "cell_type": "markdown",
      "source": [
        "## Schelling model\n",
        "\n",
        "1. Populate a $N \\times N$ grid with $n$ colors\n",
        "2. Let randomly drawn cells move if they are **unsatisfied,** i.e. they have more than $k$ neighbors of not the same color.\n",
        "3. Repeat for $M$ iterations\n"
      ],
      "metadata": {}
    },
    {
      "cell_type": "code",
      "source": [
        "%matplotlib inline\n",
        "\n",
        "mpl.rcParams.update(mpl.rcParamsDefault)\n",
        "e = ['#ffffff', \n",
        "     '#009FD7',  \n",
        "     '#E30010',  \n",
        "     '#f39200', \n",
        "     '#528EA5',  \n",
        "     '#004C64', \n",
        "     '#E84932',  \n",
        "     '#74BCBF',  \n",
        "     '#fed630',  \n",
        "     '#75D0F4',  \n",
        "     '#EBA289']\n",
        "\ncmap = col.LinearSegmentedColormap.from_list('', [col.hex2color(color) for color in e], N=len(e))"
      ],
      "outputs": [],
      "execution_count": null,
      "metadata": {
        "collapsed": true
      }
    },
    {
      "cell_type": "code",
      "source": [
        "np.random.RandomState(11235)"
      ],
      "outputs": [
        {
          "output_type": "execute_result",
          "execution_count": 3,
          "data": {
            "text/plain": [
              "<mtrand.RandomState at 0x109fbd5e8>"
            ]
          },
          "metadata": {}
        }
      ],
      "execution_count": 3,
      "metadata": {
        "collapsed": false,
        "outputHidden": false,
        "inputHidden": false
      }
    },
    {
      "cell_type": "code",
      "source": [
        "class Schelling:\n",
        "    def __init__(self, N, empty_ratio, similarity_threshold, races=2):\n",
        "        self.N = N\n",
        "        self.races = races\n",
        "        self.empty_ratio = empty_ratio\n",
        "        self.similarity_threshold = similarity_threshold\n",
        "\n",
        "        self.prob = [self.empty_ratio] + [(1 - self.empty_ratio)/(self.races) for i in range(self.races)]\n",
        "        \n",
        "        self.map = np.random.choice(self.races+1, \n",
        "                                     size=(self.N+1)**2, \n",
        "                                     replace=True, \n",
        "                                     p=self.prob,\n",
        "                                     ).reshape(self.N+1, self.N+1)\n",
        "        self.empty_houses = np.argwhere(self.map==0)\n",
        "        self.houses_by_race = {i: np.argwhere(self.map==i) for i in np.arange(1, self.races+1)}\n",
        "        self.households = {tuple(k) : self.map[k[0], k[1]] for k in np.argwhere(self.map>0)}\n",
        "\n",
        "        \n",
        "    def is_satisfied(self, x):\n",
        "        # assume empty cells are satisfied\n",
        "        if x not in self.households.keys():\n",
        "            satisfied = True\n",
        "        \n",
        "        ######\n",
        "        ## assume the border is satisfied - \n",
        "        ## this is just a simplification for the next part\n",
        "        #####\n",
        "        elif x[0] in [0, self.N+1] or x[1] in [0, self.N+1]:\n",
        "            satisfied = True\n",
        "        \n",
        "        ######\n",
        "        ## check the eight neighbors of each household in the interior\n",
        "        ## x x x \n",
        "        ## x H x\n",
        "        ## x x x\n",
        "        ######\n",
        "        else:\n",
        "            same = len(np.where(np.isin(self.map[x[0]-1:x[0]+2, x[1]-1:x[1]+2],\n",
        "                                [self.map[x[0],x[1]], 0]))[0])-1\n",
        "\n",
        "            if same >= 8*self.similarity_threshold:\n",
        "                satisfied = True\n",
        "            else: \n",
        "                satisfied = False\n",
        "\n",
        "        return satisfied\n",
        "\n",
        "    def update(self):\n",
        "        self.satisfied = np.array([self.is_satisfied(tuple(x)) for x in np.argwhere(self.map>-1)]).reshape(self.N+1, self.N+1)\n",
        "\n",
        "        unsatisfied = np.random.permutation(np.argwhere(self.satisfied==False))\n",
        "\n",
        "        available = np.random.permutation(np.concatenate([self.empty_houses, unsatisfied]))\n",
        "\n",
        "        for k in range(len(unsatisfied)):\n",
        "            avail = tuple(available[k])\n",
        "            self.map[avail[0], avail[1]] = self.households[tuple(unsatisfied[k])]\n",
        "\n",
        "        now_empty = np.delete(available, np.s_[:len(unsatisfied)], 0)\n",
        "\n",
        "        for k in now_empty:\n",
        "            self.map[k[0], k[1]] = 0\n",
        "\n",
        "        self.empty_houses = np.argwhere(self.map==0)\n",
        "\n",
        "        self.houses_by_race = {i: np.argwhere(self.map==i) for i in np.arange(1, self.races+1)}\n",
        "\n",
        "        self.households = {tuple(k) : self.map[k[0], k[1]] for k in np.argwhere(self.map>0)}\n",
        "\n",
        "        self.satisfied = np.array([self.is_satisfied(tuple(x)) for x in np.argwhere(self.map>-1)]).reshape(self.N+1, self.N+1)\n",
        "\n",
        "        if len(np.argwhere(self.satisfied==False)) == 0:\n",
        "            print(\"Simulation stable\")\n",
        "\n        "
      ],
      "outputs": [],
      "execution_count": 26,
      "metadata": {}
    },
    {
      "cell_type": "code",
      "source": [
        "N = 100\n",
        "races = 2\n",
        "empty_ratio = .2\n",
        "similarity_threshold = .6\n",
        "n_iterations = 10\n",
        "\n",
        "test = Schelling(N, empty_ratio, similarity_threshold, races)\n",
        "\n",
        "test.update()\n",
        "\n",
        "fig, ax = plt.subplots(figsize=(6,6))\n",
        "\n",
        "plt.imshow(test.map[1:test.N, 1:test.N], cmap=cmap);\n",
        "\n",
        "ss = np.array([test.is_satisfied(tuple(x)) for x in np.argwhere(test.map>-1)]).reshape(test.N+1, test.N+1)\n",
        "\n",
        "print(\"Initial State - Unsatisfied: {}\".format(len(np.argwhere(ss==False))))\n",
        "plt.show()\n",
        "\n",
        "for i in range(50):\n",
        "    test.update()\n",
        "    \n",
        "    if i % 5 == 4:\n",
        "\n",
        "        ss = np.array([test.is_satisfied(tuple(x)) for x in np.argwhere(test.map>-1)]).reshape(test.N+1, test.N+1)\n",
        "\n",
        "        print(\"Step: {} - Unsatisfied: {}\".format(i+1, len(np.argwhere(ss==False))))\n",
        "\n",
        "        fig, ax = plt.subplots(figsize=(6,6))\n",
        "\n",
        "        plt.imshow(test.map[1:test.N, 1:test.N], cmap=cmap);\n",
        "\n        plt.show()"
      ],
      "outputs": [],
      "execution_count": null,
      "metadata": {
        "scrolled": false
      }
    },
    {
      "cell_type": "code",
      "source": [
        "N = 5\n",
        "races = 2\n",
        "empty_ratio = .2\n",
        "similarity_threshold = .6\n",
        "n_iterations = 10\n",
        "\n",
        "test = Schelling(N, empty_ratio, similarity_threshold, races)\n",
        "\ntest.houses_by_race"
      ],
      "outputs": [
        {
          "output_type": "execute_result",
          "execution_count": 27,
          "data": {
            "text/plain": [
              "{1: array([[0, 2],\n",
              "        [0, 4],\n",
              "        [1, 3],\n",
              "        [2, 0],\n",
              "        [2, 2],\n",
              "        [2, 3],\n",
              "        [3, 1],\n",
              "        [3, 2],\n",
              "        [4, 1],\n",
              "        [4, 5],\n",
              "        [5, 1],\n",
              "        [5, 3],\n",
              "        [5, 5]]), 2: array([[0, 1],\n",
              "        [0, 3],\n",
              "        [0, 5],\n",
              "        [1, 0],\n",
              "        [1, 1],\n",
              "        [1, 2],\n",
              "        [1, 4],\n",
              "        [1, 5],\n",
              "        [2, 1],\n",
              "        [2, 4],\n",
              "        [3, 0],\n",
              "        [3, 3],\n",
              "        [4, 2],\n",
              "        [4, 4],\n",
              "        [5, 0]])}"
            ]
          },
          "metadata": {}
        }
      ],
      "execution_count": 27,
      "metadata": {
        "collapsed": false,
        "outputHidden": false,
        "inputHidden": false
      }
    },
    {
      "cell_type": "code",
      "source": [
        "test.map"
      ],
      "outputs": [
        {
          "output_type": "execute_result",
          "execution_count": 28,
          "data": {
            "text/plain": [
              "array([[0, 2, 1, 2, 1, 2],\n",
              "       [2, 2, 2, 1, 2, 2],\n",
              "       [1, 2, 1, 1, 2, 0],\n",
              "       [2, 1, 1, 2, 0, 0],\n",
              "       [0, 1, 2, 0, 2, 1],\n",
              "       [2, 1, 0, 1, 0, 1]])"
            ]
          },
          "metadata": {}
        }
      ],
      "execution_count": 28,
      "metadata": {
        "collapsed": false,
        "outputHidden": false,
        "inputHidden": false
      }
    },
    {
      "cell_type": "code",
      "source": [
        "x = [2,2]\n",
        "x\n",
        "len(np.where(np.isin(test.map[x[0]-1:x[0]+2, x[1]-1:x[1]+2],\n",
        "                                [test.map[x[0],x[1]], 0]))[0])-1"
      ],
      "outputs": [
        {
          "output_type": "execute_result",
          "execution_count": 33,
          "data": {
            "text/plain": [
              "4"
            ]
          },
          "metadata": {}
        }
      ],
      "execution_count": 33,
      "metadata": {
        "collapsed": false,
        "outputHidden": false,
        "inputHidden": false
      }
    },
    {
      "cell_type": "code",
      "source": [
        "from matplotlib import animation\n",
        "\n\n",
        "def animate_schelling(n):\n",
        "    \n",
        "    N = 100\n",
        "    races = 2\n",
        "    empty_ratio = .2\n",
        "    similarity_threshold = .6\n",
        "    n_iterations = 10\n",
        "\n",
        "    schelling = Schelling(N, empty_ratio, similarity_threshold, races)\n",
        "\n",
        "    schelling.update()\n",
        "\n",
        "    fig, ax = plt.subplots(figsize=(6,6))\n",
        "    fig.subplots_adjust(left=0, right=1, bottom=0, top=1)\n",
        "    ax.axis('off')\n",
        "    ax.set(xlim=(-1, 1), ylim=(-1, 1))\n",
        "\n",
        "    plt.imshow(test.map[1:test.N, 1:test.N], cmap=cmap);\n",
        "\n\n\n\n",
        "    line, = ax.plot([], [], 'o-', lw=2)\n",
        "\n",
        "    def init():\n",
        "        line.set_data([], [])\n",
        "        return line,\n",
        "\n",
        "    def animate(i):\n",
        "        line.set_data(x[i], y[i])\n",
        "        return line,\n",
        "\n",
        "    anim = animation.FuncAnimation(fig, animate, frames=len(t),\n",
        "                                   interval=1000 * t.max() / len(t),\n",
        "                                   blit=True, init_func=init)\n",
        "    plt.close(fig)\n",
        "    return anim"
      ],
      "outputs": [],
      "execution_count": null,
      "metadata": {
        "collapsed": true
      }
    }
  ],
  "metadata": {
    "kernel_info": {
      "name": "python3"
    },
    "kernelspec": {
      "name": "python3",
      "language": "python",
      "display_name": "Python 3"
    },
    "language_info": {
      "name": "python",
      "version": "3.6.4",
      "mimetype": "text/x-python",
      "codemirror_mode": {
        "name": "ipython",
        "version": 3
      },
      "pygments_lexer": "ipython3",
      "nbconvert_exporter": "python",
      "file_extension": ".py"
    },
    "nteract": {
      "version": "0.8.4"
    }
  },
  "nbformat": 4,
  "nbformat_minor": 2
}